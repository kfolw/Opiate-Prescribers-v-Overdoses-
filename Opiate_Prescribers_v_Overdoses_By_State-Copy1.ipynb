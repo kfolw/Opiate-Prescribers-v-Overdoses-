{
 "cells": [
  {
   "cell_type": "markdown",
   "metadata": {},
   "source": [
    "# Exploration of Medicare Class D Opiate Prescribers and U.S. Overdoses by State\n",
    "\n",
    "#### Sourced from Kaggle user Alan (AJ) Pryor, Jr.: https://www.kaggle.com/apryor6/us-opiate-prescriptions\n",
    "\n",
    "### Here is a brief description of the data from the page: \n",
    "\n",
    "\"This dataset contains summaries of prescription records for 250 common opioid and non-opioid drugs written by 25,000 unique licensed medical professionals in 2014 in the United States for citizens covered under Class D Medicare as well as some metadata about the doctors themselves. This is a small subset of data that was sourced from cms.gov. The full dataset contains almost 24 million prescription instances in long format.\"\n",
    "\n",
    "In short, the **prescriber-info** csv file contains a sample of U.S. Medicare prescribers and their prescriptions for 2014 and the **overdoses** file contains the number of opiate-related overdoses by state for 2014. \n",
    "\n",
    "#### Since both datasets contain information on U.S. states, I wanted to ask: **Does the number of opiate prescribers in a state correlate to the number of overdoses in that state?**\n",
    "\n",
    "One thing to keep in mind: The number of prescribers in this dataset only accounts for the number of **Medicare Class D** prescribers. That means, these are practitioners who are writing scripts for patients who are 65 years or older OR are under 65 with a disability (and are eligible to receive Social Security Disability Insurance (SSDI) benefits). Therefore, just initially generalizing, this patient population may be \"justified\" in their prescription use of opiates for health reasons (and may not necessarily be those abusing opiates/ most vulnerable to overdose). With that in mind, let's see. "
   ]
  },
  {
   "cell_type": "code",
   "execution_count": 180,
   "metadata": {
    "collapsed": true
   },
   "outputs": [],
   "source": [
    "import pandas\n",
    "import plotly.plotly as plotly\n",
    "import plotly.tools as tls\n",
    "tls.set_credentials_file(username='********', api_key='*********')"
   ]
  },
  {
   "cell_type": "code",
   "execution_count": 185,
   "metadata": {
    "collapsed": true
   },
   "outputs": [],
   "source": [
    "#import data\n",
    "overdoses = pandas.read_csv(\"overdoses.csv\")\n",
    "prescriber_info = pandas.read_csv(\"prescriber-info.csv\")"
   ]
  },
  {
   "cell_type": "code",
   "execution_count": 194,
   "metadata": {
    "collapsed": false
   },
   "outputs": [],
   "source": [
    "#Data Cleaning for Prescribers\n",
    "\n",
    "#Isolate the opiate prescribers count by state\n",
    "state_opiate_prescribers = prescriber_info[prescriber_info[\"Opioid.Prescriber\"] == 1]['State'].value_counts()\n",
    "\n",
    "#extract list of state name abbreviations from the 'overdoses' dataframe\n",
    "abbrev = list(overdoses[\"Abbrev\"])\n",
    "\n",
    "#Remove US territories from the prescribers pandas series and convert to a dictionary\n",
    "territories = list(set(state_opiate_prescribers.index)-set(abbrev))\n",
    "state_opiate_prescribers = dict(state_opiate_prescribers.drop(territories, errors='ignore'))\n"
   ]
  },
  {
   "cell_type": "code",
   "execution_count": 192,
   "metadata": {
    "collapsed": false
   },
   "outputs": [],
   "source": [
    "#Isolate the state populations from 'overdose' df  \n",
    "statePops = [x.replace(',', '') for x in overdoses[\"Population\"]]\n",
    "\n",
    "#Create dictionary with 2014 state populations\n",
    "state_pop_dict = pandas.Series(data=statePops, index =abbrev).to_dict()\n"
   ]
  },
  {
   "cell_type": "markdown",
   "metadata": {},
   "source": [
    "## Normalizing the number of opiate prescribers per state\n",
    "I had to make a decision about how to normalize the prescriber data. I decided to divide the number of opiate prescribers in each state by the state's population, yielding a \"per capita\" percentage of prescribers. To me, this is the best measure of \"how much access\" patients have to opiate prescribers in that state, and could best provide information about overdoses.  "
   ]
  },
  {
   "cell_type": "code",
   "execution_count": 197,
   "metadata": {
    "collapsed": false
   },
   "outputs": [],
   "source": [
    "#Normalize the number of opiate prescribers in each state to the state population (expressed as a percentage)\n",
    "\n",
    "norm_prescriber_dict = {}\n",
    "for key in state_opiate_prescribers:\n",
    "    if key in state_pop_dict.keys():\n",
    "        ratio = (float(state_opiate_prescribers[key]) / float(state_pop_dict[key])) * 100\n",
    "        norm_prescriber_dict[key] = ratio\n",
    "        "
   ]
  },
  {
   "cell_type": "code",
   "execution_count": 198,
   "metadata": {
    "collapsed": false
   },
   "outputs": [
    {
     "name": "stdout",
     "output_type": "stream",
     "text": [
      "[('HI', 0.0033474495995168274), ('TX', 0.0035881468348329133), ('AK', 0.0036728097811005375), ('UT', 0.0036885460647694897), ('CA', 0.003813993866983077), ('NJ', 0.00386545562541218), ('NV', 0.0038707790587985676), ('IA', 0.0038829723894776625), ('GA', 0.003983119977878672), ('WY', 0.00411905440241102)]\n",
      "[('ME', 0.007076703942326368), ('RI', 0.007037491761855083), ('WV', 0.006795002329715084), ('VT', 0.006383352217416976), ('CT', 0.005617227647883251), ('MI', 0.005598435348480368), ('OR', 0.0055978717909245775), ('MA', 0.005513367750294942), ('TN', 0.0055111024082901755), ('DE', 0.005509052669784143)]\n"
     ]
    }
   ],
   "source": [
    "#10 states with lowest percent of prescribers\n",
    "import operator\n",
    "sorted_ratio = sorted(norm_prescriber_dict.items(), key=operator.itemgetter(1)) #ascending order\n",
    "print(sorted_ratio[:10])\n",
    "#10 states with highest percent of prescribers\n",
    "sorted_ratio_desc = sorted(norm_prescriber_dict.items(), key=operator.itemgetter(1), reverse=True) #descending order\n",
    "print(sorted_ratio_desc[:10])\n",
    "\n"
   ]
  },
  {
   "cell_type": "code",
   "execution_count": 206,
   "metadata": {
    "collapsed": false,
    "scrolled": true
   },
   "outputs": [
    {
     "data": {
      "text/html": [
       "<iframe id=\"igraph\" scrolling=\"no\" style=\"border:none;\" seamless=\"seamless\" src=\"https://plot.ly/~kfolweiler/12.embed\" height=\"525px\" width=\"100%\"></iframe>"
      ],
      "text/plain": [
       "<plotly.tools.PlotlyDisplay object>"
      ]
     },
     "execution_count": 206,
     "metadata": {},
     "output_type": "execute_result"
    }
   ],
   "source": [
    "#Plotting the prescriber data on a chloropleth map\n",
    "\n",
    "\n",
    "#Convert normalized prescriber info back into a df for plotting in plotly\n",
    "opiates_normed = pandas.DataFrame.from_dict(norm_opiate_dict, orient='index')\n",
    "        \n",
    "opiates_normed['State'] = opiates_normed.index\n",
    "opiates_normed['Ratio'] = opiates_normed[0]\n",
    "\n",
    "scl = [[0.0, 'rgb(242,240,247)'],[0.2, 'rgb(218,218,235)'],[0.4, 'rgb(188,189,220)'],\\\n",
    "           [0.6, 'rgb(158,154,200)'],[0.8, 'rgb(117,107,177)'],[1.0, 'rgb(84,39,143)']]\n",
    "\n",
    "for col in opiates_normed.columns:\n",
    "    opiates_normed[col] = opiates_normed[col].astype(str)\n",
    "    \n",
    "opiates_normed['text'] = opiates_normed['State'] + '<br>' +\\\n",
    "    'Ratio: '+ opiates_normed['Ratio']\n",
    "\n",
    "data = [ dict(\n",
    "        type='choropleth',\n",
    "        colorscale = scl,\n",
    "        autocolorscale = False,\n",
    "        locations = opiates_normed['State'],\n",
    "        z = opiates_normed['Ratio'].astype(float),\n",
    "        locationmode = 'USA-states',\n",
    "        text = opiates_normed['text'],\n",
    "        marker = dict(\n",
    "            line = dict (\n",
    "                color = 'rgb(255,255,255)',\n",
    "                width = 2\n",
    "            ) ),\n",
    "        colorbar = dict(\n",
    "            title = \"Ratio of Prescribers \")\n",
    "        ) ]\n",
    "\n",
    "\n",
    "layout = dict(\n",
    "        title = 'Ratio of Opiate Prescribers Relative to State Population<br>(Hover for breakdown)',\n",
    "        geo = dict(\n",
    "            scope='usa',\n",
    "            projection=dict( type='albers usa' ),\n",
    "            showlakes = True,\n",
    "            lakecolor = 'rgb(255, 255, 255)'),\n",
    "             )\n",
    "    \n",
    "fig = dict( data=data, layout=layout )\n",
    "plotly.iplot( fig, filename='opiate-prescribers-map' )\n",
    "\n",
    "\n",
    "\n"
   ]
  },
  {
   "cell_type": "code",
   "execution_count": 233,
   "metadata": {
    "collapsed": false
   },
   "outputs": [
    {
     "data": {
      "text/html": [
       "<iframe id=\"igraph\" scrolling=\"no\" style=\"border:none;\" seamless=\"seamless\" src=\"https://plot.ly/~kfolweiler/10.embed\" height=\"525px\" width=\"100%\"></iframe>"
      ],
      "text/plain": [
       "<plotly.tools.PlotlyDisplay object>"
      ]
     },
     "execution_count": 233,
     "metadata": {},
     "output_type": "execute_result"
    }
   ],
   "source": [
    "#boxplot of the number of opiate prescribers\n",
    "from plotly.graph_objs import *\n",
    "\n",
    "prescribers_state = {\n",
    "  \"y\": opiates_normed['Ratio'],\n",
    "  \"boxpoints\": \"all\", \n",
    "  \"jitter\": 0.5, \n",
    "  \"pointpos\": -1.8, \n",
    "  \"type\": \"box\"\n",
    "  \n",
    "}\n",
    "\n",
    "data = Data([prescribers_state])\n",
    "layout = {\n",
    "  \"showlegend\": False, \n",
    "  \"title\": \"Opiate Prescribers\", \n",
    "  \"xaxis\": {\n",
    "    \"showgrid\": False, \n",
    "    \"showline\": False, \n",
    "    \"ticks\": \"\"\n",
    "  }, \n",
    "  \"yaxis\": {\n",
    "    \"showline\": False, \n",
    "    \"ticks\": \"\", \n",
    "    \"zeroline\": False\n",
    "  }\n",
    "    \n",
    "}\n",
    "fig = Figure(data=data, layout=layout)\n",
    "plotly.iplot( fig, filename='opiate_prescribers_boxplot' )"
   ]
  },
  {
   "cell_type": "code",
   "execution_count": 230,
   "metadata": {
    "collapsed": false
   },
   "outputs": [
    {
     "data": {
      "text/html": [
       "<iframe id=\"igraph\" scrolling=\"no\" style=\"border:none;\" seamless=\"seamless\" src=\"https://plot.ly/~kfolweiler/30.embed\" height=\"525px\" width=\"100%\"></iframe>"
      ],
      "text/plain": [
       "<plotly.tools.PlotlyDisplay object>"
      ]
     },
     "execution_count": 230,
     "metadata": {},
     "output_type": "execute_result"
    }
   ],
   "source": [
    "#Histogram of opiate prescribers\n",
    "import plotly.graph_objs as go\n",
    "\n",
    "x = opiates_normed['Ratio']\n",
    "\n",
    "data = [go.Histogram(\n",
    "        x=x,\n",
    "        histnorm='count',\n",
    "        nbinsx=20,\n",
    "        marker=dict(\n",
    "            color='green'),\n",
    "        )]\n",
    "\n",
    "layout = go.Layout(\n",
    "    title='Opiate Prescriber Rates by State',\n",
    "    xaxis=dict(\n",
    "        title='Prescriber Rate (%)'\n",
    "    ),\n",
    "    yaxis=dict(\n",
    "        title='Number of States'\n",
    "    )\n",
    ")\n",
    "fig = go.Figure(data=data, layout=layout)\n",
    "plotly.iplot(fig)"
   ]
  },
  {
   "cell_type": "markdown",
   "metadata": {},
   "source": [
    "From the chlorpleth map, boxplot, and histogram, it is clear there are 4 states (Maine, Rhode Island, Vermont, and West Virginia) that have very high rates of opiate prescribers per capita. Does this translate to high rates of opiate-related overdoses?"
   ]
  },
  {
   "cell_type": "markdown",
   "metadata": {},
   "source": [
    "\n",
    "\n",
    "\n",
    "\n",
    "\n",
    "## Normalized Overdoses in each State to Their Population"
   ]
  },
  {
   "cell_type": "code",
   "execution_count": 151,
   "metadata": {
    "collapsed": false
   },
   "outputs": [],
   "source": [
    "#Decided to convert Series to lists in order to make this normalized count\n",
    "deaths = []\n",
    "for row in overdoses[\"Deaths\"]:\n",
    "    row = float(row.replace(\",\",\"\"))\n",
    "    deaths.append(row)\n",
    "#overdoses[\"Deaths\"] = pandas.Series(deaths)\n",
    "\n",
    "population = []\n",
    "for row in overdoses[\"Population\"]:\n",
    "    row = float(row.replace(\",\",\"\"))\n",
    "    population.append(row)\n",
    "#overdoses[\"Population\"] = pandas.Series(population)\n",
    "\n",
    "abbrev = []\n",
    "for row in overdoses[\"Abbrev\"]:\n",
    "    abbrev.append(row)\n",
    "    \n",
    "od_ratio_dict = {}\n",
    "for i, row in enumerate(deaths):\n",
    "    key = abbrev[i]\n",
    "    ratio = deaths[i] / population[i] *100\n",
    "    od_ratio_dict[key] = ratio"
   ]
  },
  {
   "cell_type": "code",
   "execution_count": 7,
   "metadata": {
    "collapsed": false
   },
   "outputs": [
    {
     "name": "stdout",
     "output_type": "stream",
     "text": [
      "[('ND', 0.0059442101319752885), ('NE', 0.006689800890118148), ('SD', 0.007456706715888821), ('IA', 0.008542539256850857), ('MN', 0.009538076666211594), ('TX', 0.00983432025015849), ('HI', 0.011181906109024297), ('MS', 0.011232923699362832), ('KS', 0.011472181514790994), ('NY', 0.011704163328647767)]\n",
      "[('WV', 0.0338132258788203), ('NM', 0.026231401241172077), ('NH', 0.02523689815853759), ('KY', 0.024503474738328146), ('OH', 0.02371485206564658), ('RI', 0.023490006286191967), ('PA', 0.021387525921219532), ('UT', 0.020786853056598154), ('DE', 0.020415901070376528), ('OK', 0.020178841147591733)]\n"
     ]
    }
   ],
   "source": [
    "#10 states with lowest percent of overdoses\n",
    "import operator\n",
    "sorted_ratio = sorted(od_ratio_dict.items(), key=operator.itemgetter(1)) #ascending order\n",
    "print(sorted_ratio[:10])\n",
    "#10 states with highest percent of overdoses\n",
    "sorted_ratio_desc = sorted(od_ratio_dict.items(), key=operator.itemgetter(1), reverse=True) #descending order\n",
    "print(sorted_ratio_desc[:10])\n"
   ]
  },
  {
   "cell_type": "code",
   "execution_count": 208,
   "metadata": {
    "collapsed": false
   },
   "outputs": [
    {
     "data": {
      "text/html": [
       "<iframe id=\"igraph\" scrolling=\"no\" style=\"border:none;\" seamless=\"seamless\" src=\"https://plot.ly/~kfolweiler/4.embed\" height=\"525px\" width=\"100%\"></iframe>"
      ],
      "text/plain": [
       "<plotly.tools.PlotlyDisplay object>"
      ]
     },
     "execution_count": 208,
     "metadata": {},
     "output_type": "execute_result"
    }
   ],
   "source": [
    "#Plotting overdoses on chloropleth map\n",
    "\n",
    "#convert dict to df\n",
    "overdoses_normed = pandas.DataFrame.from_dict(od_ratio_dict, orient='index')\n",
    "        \n",
    "overdoses_normed['State'] = overdoses_normed.index\n",
    "overdoses_normed['Overdose Percentage'] = overdoses_normed[0]\n",
    "\n",
    "for col in overdoses_normed.columns:\n",
    "    overdoses_normed[col] = overdoses_normed[col].astype(str)\n",
    "\n",
    "scl = [[0.0, 'rgb(242,240,247)'],[0.2, 'rgb(218,218,235)'],[0.4, 'rgb(188,189,220)'],\\\n",
    "            [0.6, 'rgb(158,154,200)'],[0.8, 'rgb(117,107,177)'],[1.0, 'rgb(84,39,143)']]\n",
    "\n",
    "\n",
    "overdoses_normed['text'] = overdoses_normed['State'] + '<br>' +\\\n",
    "    'Overdoses: '+ overdoses_normed['Overdose Percentage']\n",
    "\n",
    "data = [ dict(\n",
    "        type='choropleth',\n",
    "        colorscale = scl,\n",
    "        autocolorscale = False,\n",
    "        locations = overdoses_normed['State'],\n",
    "        z = overdoses_normed['Overdose Percentage'].astype(float),\n",
    "        locationmode = 'USA-states',\n",
    "        text = overdoses_normed['text'],\n",
    "        marker = dict(\n",
    "            line = dict (\n",
    "                color = 'rgb(255,255,255)',\n",
    "                width = 2\n",
    "            ) ),\n",
    "        colorbar = dict(\n",
    "            title = \"Percent of ODs per capita \")\n",
    "        ) ]\n",
    "\n",
    "\n",
    "layout = dict(\n",
    "        title = 'Percentage of Overdoses Per State <br>(Hover for breakdown)',\n",
    "        geo = dict(\n",
    "            scope='usa',\n",
    "            projection=dict( type='albers usa' ),\n",
    "            showlakes = True,\n",
    "            lakecolor = 'rgb(255, 255, 255)'),\n",
    "             )\n",
    "    \n",
    "fig = dict( data=data, layout=layout )\n",
    "plotly.iplot( fig, filename='overdoses_map' )\n",
    "\n",
    "\n",
    "\n"
   ]
  },
  {
   "cell_type": "code",
   "execution_count": 210,
   "metadata": {
    "collapsed": false,
    "scrolled": true
   },
   "outputs": [
    {
     "data": {
      "text/html": [
       "<iframe id=\"igraph\" scrolling=\"no\" style=\"border:none;\" seamless=\"seamless\" src=\"https://plot.ly/~kfolweiler/8.embed\" height=\"525px\" width=\"100%\"></iframe>"
      ],
      "text/plain": [
       "<plotly.tools.PlotlyDisplay object>"
      ]
     },
     "execution_count": 210,
     "metadata": {},
     "output_type": "execute_result"
    }
   ],
   "source": [
    "#Make a boxplot of the number of overdoses\n",
    "from plotly.graph_objs import *\n",
    "\n",
    "overdoses = {\n",
    "  \"y\": overdoses_normed['Overdose Percentage'],\n",
    "  \"boxpoints\": \"all\", \n",
    "  \"jitter\": 0.5, \n",
    "  \"pointpos\": -1.8, \n",
    "  \"type\": \"box\"\n",
    "}\n",
    "\n",
    "data = Data([overdoses])\n",
    "layout = {\n",
    "  \"showlegend\": False, \n",
    "  \"title\": \"Overdoses\", \n",
    "  \"xaxis\": {\n",
    "    \"showgrid\": False, \n",
    "    \"showline\": False, \n",
    "    \"ticks\": \"\"\n",
    "  }, \n",
    "  \"yaxis\": {\n",
    "    \"showline\": False, \n",
    "    \"ticks\": \"\", \n",
    "    \"zeroline\": False\n",
    "  }\n",
    "}\n",
    "fig = Figure(data=data, layout=layout)\n",
    "plotly.iplot( fig, filename='overdose_boxplot' )"
   ]
  },
  {
   "cell_type": "code",
   "execution_count": 229,
   "metadata": {
    "collapsed": false
   },
   "outputs": [
    {
     "data": {
      "text/html": [
       "<iframe id=\"igraph\" scrolling=\"no\" style=\"border:none;\" seamless=\"seamless\" src=\"https://plot.ly/~kfolweiler/28.embed\" height=\"525px\" width=\"100%\"></iframe>"
      ],
      "text/plain": [
       "<plotly.tools.PlotlyDisplay object>"
      ]
     },
     "execution_count": 229,
     "metadata": {},
     "output_type": "execute_result"
    }
   ],
   "source": [
    "#Histogram of overdoses\n",
    "import plotly.graph_objs as go\n",
    "\n",
    "x = overdoses_normed['Overdose Percentage']\n",
    "\n",
    "data = [go.Histogram(\n",
    "        x=x,\n",
    "        histnorm='count',\n",
    "        nbinsx=20,\n",
    "        marker=dict(\n",
    "            color='fuchsia'),\n",
    "        )]\n",
    "\n",
    "layout = go.Layout(\n",
    "    title='Overdose Rates by State',\n",
    "    xaxis=dict(\n",
    "        title='Overdose Rate (%)'\n",
    "    ),\n",
    "    yaxis=dict(\n",
    "        title='Number of States'\n",
    "    )\n",
    ")\n",
    "fig = go.Figure(data=data, layout=layout)\n",
    "plotly.iplot(fig)"
   ]
  },
  {
   "cell_type": "markdown",
   "metadata": {},
   "source": [
    "# Conclusions\n",
    "\n",
    "When looking at the overdose plots, the state with the highest rate of OD is West Virginia, which also had one of the highest rates of opiate prescribers per capita. Based on cursory comparison, it seems none of the other states had quite a high correlation between number of prescribers and number of overdoses. In the case of West Virginia, where these two variables seem to be very highly correlated, you could potentially consider that the population of people overdosing on opiates in that state are getting them from Medicare prescribers. \n",
    "\n",
    "Future directions: I'd like to do a more statistical analysis of the strength of the correlation between opiate prescriber rate and overdose rate by state to potentially draw more sound conclusions. "
   ]
  },
  {
   "cell_type": "code",
   "execution_count": null,
   "metadata": {
    "collapsed": true
   },
   "outputs": [],
   "source": []
  }
 ],
 "metadata": {
  "kernelspec": {
   "display_name": "Python 3",
   "language": "python",
   "name": "python3"
  },
  "language_info": {
   "codemirror_mode": {
    "name": "ipython",
    "version": 3
   },
   "file_extension": ".py",
   "mimetype": "text/x-python",
   "name": "python",
   "nbconvert_exporter": "python",
   "pygments_lexer": "ipython3",
   "version": "3.5.1"
  }
 },
 "nbformat": 4,
 "nbformat_minor": 0
}
